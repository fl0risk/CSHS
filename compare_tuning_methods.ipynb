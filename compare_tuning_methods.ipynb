{
 "cells": [
  {
   "cell_type": "code",
   "execution_count": null,
   "id": "f802f082",
   "metadata": {},
   "outputs": [],
   "source": [
    "from utils_plots_comparison import create_scores_dict,aggregated_tasks,compare_method,create_scores_dict_joint_tuning\n",
    "import pandas as pd\n",
    "import numpy as np\n",
    "from joblib import dump, load"
   ]
  },
  {
   "cell_type": "code",
   "execution_count": null,
   "id": "30b3253e",
   "metadata": {},
   "outputs": [],
   "source": [
    "#scores_n_iter,_ = create_scores_dict_joint_tuning(False,False)\n",
    "# scores_n_iter_class,_ = create_scores_dict_joint_tuning(True,False)\n",
    "# RMSE_n_iter,_ = create_scores_dict_joint_tuning(False,True)\n",
    "# RMSE_n_iter_class,_ = create_scores_dict_joint_tuning(True,True)\n",
    "scores_NL, scores_MD, scores_J, names = create_scores_dict(False,False)\n",
    "# scores_NL_class, scores_MD_class, scores_J_class, names_class = create_scores_dict(True,False)\n",
    "# RMSE_NL, RMSE_MD, RMSE_J, _ = create_scores_dict(False,True)\n",
    "# RMSE_NL_class, RMSE_MD_class, RMSE_J_class, _ = create_scores_dict(True,True)"
   ]
  },
  {
   "cell_type": "code",
   "execution_count": null,
   "id": "f8c2d489",
   "metadata": {},
   "outputs": [],
   "source": [
    "# dump([scores_n_iter],'scores_task2.joblib')\n",
    "# dump([scores_n_iter_class],'scores_class_task2.joblib')\n",
    "# dump([RMSE_n_iter], 'RSME_task2.joblib')\n",
    "# dump([RMSE_n_iter_class], 'RSME_class_task2.joblib')\n",
    "# dump(names_class, 'names_class.joblib')\n",
    "# dump(names, 'names.joblib')\n",
    "# scores = [scores_NL,scores_MD, scores_J]\n",
    "# scores_class = [scores_NL_class,scores_MD_class, scores_J_class]\n",
    "# RMSE = [RMSE_NL,RMSE_MD, RMSE_J]\n",
    "# RMSE_class = [RMSE_NL_class,RMSE_MD_class, RMSE_J_class]\n",
    "# dump(scores,'scores.joblib')\n",
    "# dump(scores_class,'scores_class.joblib')\n",
    "# dump(RMSE, 'RSME.joblib')\n",
    "# dump(RMSE_class, 'RSME_class.joblib')\n",
    "# dump(names_class, 'names_class.joblib')\n",
    "# dump(names, 'names.joblib')\n"
   ]
  },
  {
   "cell_type": "code",
   "execution_count": null,
   "id": "4869c40a",
   "metadata": {},
   "outputs": [],
   "source": [
    "scores = load('scores.joblib')\n",
    "scores_class = load('scores_class.joblib')\n",
    "RMSE = load('RSME.joblib')\n",
    "names = load('names.joblib')\n",
    "names_class = load('names_class.joblib')"
   ]
  },
  {
   "cell_type": "code",
   "execution_count": null,
   "id": "b200a0a1",
   "metadata": {},
   "outputs": [],
   "source": []
  },
  {
   "cell_type": "code",
   "execution_count": null,
   "id": "22285d1b",
   "metadata": {},
   "outputs": [],
   "source": [
    "aggregated_tasks([scores,scores_class,RMSE],'random_search',False)\n",
    "aggregated_tasks([scores,scores_class,RMSE],'tpe',False)\n",
    "aggregated_tasks([scores,scores_class,RMSE],'gp_bo',False)"
   ]
  },
  {
   "cell_type": "code",
   "execution_count": null,
   "id": "92d00c33",
   "metadata": {},
   "outputs": [],
   "source": [
    "scores_n_iter = load('scores_task2.joblib')\n",
    "scores_class_n_iter = load('scores_class_task2.joblib')\n"
   ]
  },
  {
   "cell_type": "code",
   "execution_count": null,
   "id": "64fb6604",
   "metadata": {},
   "outputs": [],
   "source": [
    "compare_method(scores, False, False, False)\n",
    "compare_method(scores_class, True, False)\n",
    "compare_method(RMSE, False, True, False)"
   ]
  },
  {
   "cell_type": "code",
   "execution_count": null,
   "id": "054d2d84",
   "metadata": {},
   "outputs": [],
   "source": [
    "aggregated_tasks([scores,scores_class,RMSE],'random_search',False)\n",
    "aggregated_tasks([scores,scores_class,RMSE],'tpe',False)\n",
    "aggregated_tasks([scores,scores_class,RMSE],'gp_bo',False)"
   ]
  },
  {
   "cell_type": "code",
   "execution_count": null,
   "id": "d42c3bac",
   "metadata": {},
   "outputs": [],
   "source": []
  }
 ],
 "metadata": {
  "kernelspec": {
   "display_name": ".venv",
   "language": "python",
   "name": "python3"
  },
  "language_info": {
   "codemirror_mode": {
    "name": "ipython",
    "version": 3
   },
   "file_extension": ".py",
   "mimetype": "text/x-python",
   "name": "python",
   "nbconvert_exporter": "python",
   "pygments_lexer": "ipython3",
   "version": "3.10.17"
  }
 },
 "nbformat": 4,
 "nbformat_minor": 5
}
