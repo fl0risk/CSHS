{
 "cells": [
  {
   "cell_type": "code",
   "execution_count": 1,
   "id": "c7c7502e",
   "metadata": {},
   "outputs": [],
   "source": [
    "import numpy as np"
   ]
  },
  {
   "cell_type": "code",
   "execution_count": 2,
   "id": "9af720b5",
   "metadata": {},
   "outputs": [],
   "source": [
    "R = 2150\n",
    "eta = 2.8\n",
    "s_max = int(np.floor(np.log(R)/np.log(eta)))"
   ]
  },
  {
   "cell_type": "code",
   "execution_count": 3,
   "id": "672b5856",
   "metadata": {},
   "outputs": [],
   "source": [
    "total = 0\n",
    "for s in range(s_max,-1,-1):\n",
    "    n = np.ceil((s_max+1)*eta**s/(s+1))\n",
    "    r = R*eta**(-s)\n",
    "    for i in range(s+1):\n",
    "        n_i = np.floor(n*eta**(-i))\n",
    "        r_i =np.floor(r *eta**(i))\n",
    "        total += n_i*r_i"
   ]
  },
  {
   "cell_type": "code",
   "execution_count": 4,
   "id": "f8262db0",
   "metadata": {},
   "outputs": [
    {
     "data": {
      "text/plain": [
       "128816.0"
      ]
     },
     "execution_count": 4,
     "metadata": {},
     "output_type": "execute_result"
    }
   ],
   "source": [
    "total"
   ]
  },
  {
   "cell_type": "code",
   "execution_count": null,
   "id": "50731430",
   "metadata": {},
   "outputs": [],
   "source": []
  }
 ],
 "metadata": {
  "kernelspec": {
   "display_name": ".venv (3.10.17)",
   "language": "python",
   "name": "python3"
  },
  "language_info": {
   "codemirror_mode": {
    "name": "ipython",
    "version": 3
   },
   "file_extension": ".py",
   "mimetype": "text/x-python",
   "name": "python",
   "nbconvert_exporter": "python",
   "pygments_lexer": "ipython3",
   "version": "3.10.17"
  }
 },
 "nbformat": 4,
 "nbformat_minor": 5
}
