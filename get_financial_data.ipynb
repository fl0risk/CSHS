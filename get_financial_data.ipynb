{
 "cells": [
  {
   "cell_type": "code",
   "execution_count": 2,
   "id": "1108d4b7",
   "metadata": {},
   "outputs": [],
   "source": [
    "import os\n",
    "import openml\n",
    "import pandas as pd\n",
    "import numpy as np\n",
    "from sklearn.linear_model import LogisticRegression,LinearRegression\n",
    "from sklearn.ensemble import HistGradientBoostingClassifier, HistGradientBoostingRegressor\n",
    "from sklearn.model_selection import train_test_split\n",
    "from sklearn.metrics import accuracy_score, r2_score\n",
    "from sklearn.preprocessing import LabelEncoder,OrdinalEncoder\n",
    "from sklearn.impute import SimpleImputer\n",
    "\n"
   ]
  },
  {
   "cell_type": "code",
   "execution_count": 3,
   "id": "fa0ed3ee",
   "metadata": {},
   "outputs": [],
   "source": [
    "#works good for openml dataset\n",
    "def check_tabular_dataset_assumptions(X, y, categorical_indicator, task_type='classification'):\n",
    "    report = {}\n",
    "\n",
    "    # Convert to pandas for easier manipulation\n",
    "    X = pd.DataFrame(X).copy()\n",
    "    y = pd.Series(y).copy()\n",
    "\n",
    "    # 1. Check for heterogeneous feature types\n",
    "    has_categorical = any(categorical_indicator)\n",
    "    has_numerical = not all(categorical_indicator)\n",
    "    report['heterogeneous_columns'] = has_categorical and has_numerical\n",
    "\n",
    "    # 2. d/n ratio\n",
    "    d, n = X.shape[1], X.shape[0]\n",
    "    report['low_dimensionality'] = (d / n) < 0.1\n",
    "\n",
    "    # 3. Enough samples and features\n",
    "    report['enough_samples'] = n >= 3000\n",
    "    report['enough_features'] = d >= 4\n",
    "\n",
    "    # 4. Remove columns with many missing, then rows with any missing\n",
    "    missing_per_col = X.isnull().mean()\n",
    "    valid_col_indices = [i for i, v in enumerate(missing_per_col) if v < 0.2]\n",
    "    \n",
    "    if not valid_col_indices:\n",
    "        return {\n",
    "            'accepted': False,\n",
    "            'error': 'All columns dropped due to missing data',\n",
    "        }\n",
    "\n",
    "    X = X.iloc[:, valid_col_indices]\n",
    "    categorical_indicator = [categorical_indicator[i] for i in valid_col_indices]\n",
    "\n",
    "    # Drop rows with any missing and align y\n",
    "    valid_rows = ~X.isnull().any(axis=1)\n",
    "    X = X[valid_rows].reset_index(drop=True)\n",
    "    y = pd.Series(y)[valid_rows].reset_index(drop=True)\n",
    "    if len(X) == 0 or len(y) == 0:\n",
    "        return {\n",
    "            'accepted': False,\n",
    "            'error': 'All rows dropped due to missing data',\n",
    "        }\n",
    "\n",
    "    report['no_missing_data'] = True\n",
    "\n",
    "    # 5. Filter by feature cardinality and convert binary numeric to categorical\n",
    "    keep_indices = []\n",
    "    new_categorical_indicator = []\n",
    "\n",
    "    for i, is_cat in enumerate(categorical_indicator):\n",
    "        col = X.iloc[:, i]\n",
    "        nunique = col.nunique()\n",
    "\n",
    "        if is_cat:\n",
    "            if nunique <= 20:\n",
    "                keep_indices.append(i)\n",
    "                new_categorical_indicator.append(True)\n",
    "        else:\n",
    "            if nunique >= 10:\n",
    "                keep_indices.append(i)\n",
    "                new_categorical_indicator.append(False)\n",
    "            elif nunique == 2:\n",
    "                # Convert to categorical\n",
    "                keep_indices.append(i)\n",
    "                new_categorical_indicator.append(True)\n",
    "\n",
    "    X = X.iloc[:, keep_indices]\n",
    "    categorical_indicator = new_categorical_indicator\n",
    "    report['valid_cardinalities'] = True\n",
    "\n",
    "    # 6. Binarize and balance classification target\n",
    "    # if task_type == 'classification':\n",
    "    #     y_counts = y.value_counts()\n",
    "\n",
    "    #     # Binarize if more than 2 classes\n",
    "    #     if len(y_counts) > 2:\n",
    "    #         top_classes = y_counts.nlargest(2).index\n",
    "    #         X = X[y.isin(top_classes)]\n",
    "    #         y = y[y.isin(top_classes)]\n",
    "\n",
    "    #     # Check class balance\n",
    "    #     y_counts = y.value_counts()\n",
    "    #     min_class, max_class = y_counts.min(), y_counts.max()\n",
    "    #     balance_ratio = min_class / max_class\n",
    "    #     report['class_balance_ratio'] = balance_ratio\n",
    "    #     balanced = abs(min_class - max_class) / max_class <= 0.1\n",
    "    #     report['balanced_classes'] = balanced\n",
    "\n",
    "    #     # Downsample to balance if needed\n",
    "    #     if not balanced:\n",
    "    #         y_min = y[y == y_counts.idxmin()]\n",
    "    #         y_max = y[y == y_counts.idxmax()].sample(n=len(y_min), random_state=42)\n",
    "    #         y = pd.concat([y_min, y_max])\n",
    "    #         X = X.loc[y.index]\n",
    "\n",
    "    #     # Re-label to 0/1\n",
    "    #     le = LabelEncoder()\n",
    "    #     y = le.fit_transform(y)\n",
    "    # Check if dataset is still valid after filtering\n",
    "    if X.shape[0] < 10:\n",
    "        report['not_too_easy'] = False\n",
    "        report['accepted'] = False\n",
    "        report['error'] = 'Too few samples after preprocessing'\n",
    "        return report\n",
    "    # # 7. Too-easy dataset check (LogReg vs boosted trees vs synthetic \"ResNet\")\n",
    "    # Encode categorical features for regression (one-hot encoding)\n",
    "    if any(categorical_indicator):\n",
    "        cat_cols = [i for i, is_cat in enumerate(categorical_indicator) if is_cat]\n",
    "        X_cat = X.iloc[:, cat_cols]\n",
    "        X_num = X.drop(X.columns[cat_cols], axis=1)\n",
    "        X_cat_encoded = pd.get_dummies(X_cat, drop_first=True)\n",
    "        X = pd.concat([X_num, X_cat_encoded], axis=1)\n",
    "  \n",
    "    X_train, X_test, y_train, y_test = train_test_split(\n",
    "        X, y, test_size=0.2, random_state=42\n",
    "    )\n",
    "\n",
    "    model_lr = LinearRegression().fit(X_train, y_train)\n",
    "    print(model_lr.predict(X_test))\n",
    "    acc_lr = r2_score(y_test, model_lr.predict(X_test))\n",
    "\n",
    "    model_tree = HistGradientBoostingRegressor().fit(X_train, y_train)\n",
    "    acc_tree = r2_score(y_test, model_tree.predict(X_test))\n",
    "\n",
    "    too_easy = abs(acc_lr - acc_tree) / acc_tree < 0.05\n",
    "    report['not_too_easy'] = not too_easy\n",
    "    \n",
    "    # # Final result\n",
    "    report['accepted'] = all([\n",
    "        report.get('heterogeneous_columns', False),\n",
    "        report.get('low_dimensionality', False),\n",
    "        report.get('enough_samples', False),\n",
    "        report.get('enough_features', False),\n",
    "        report.get('no_missing_data', False),\n",
    "        report.get('valid_cardinalities', False),\n",
    "        report.get('balanced_classes', False),\n",
    "        report.get('not_too_easy', False)\n",
    "    ])\n",
    "\n",
    "    return report, acc_tree,acc_lr"
   ]
  },
  {
   "cell_type": "code",
   "execution_count": 4,
   "id": "0ab44be4",
   "metadata": {},
   "outputs": [
    {
     "name": "stderr",
     "output_type": "stream",
     "text": [
      "/Users/floris/Desktop/ETH/ETH_FS25/Semesterarbeit/CSHS/.venv/lib/python3.10/site-packages/IPython/core/interactiveshell.py:3579: FutureWarning: Starting from Version 0.15.0 `download_splits` will default to ``False`` instead of ``True`` and be independent from `download_data`. To disable this message until version 0.15 explicitly set `download_splits` to a bool.\n",
      "  exec(code_obj, self.user_global_ns, self.user_ns)\n",
      "/Users/floris/Desktop/ETH/ETH_FS25/Semesterarbeit/CSHS/.venv/lib/python3.10/site-packages/openml/tasks/functions.py:442: FutureWarning: Starting from Version 0.15 `download_data`, `download_qualities`, and `download_features_meta_data` will all be ``False`` instead of ``True`` by default to enable lazy loading. To disable this message until version 0.15 explicitly set `download_data`, `download_qualities`, and `download_features_meta_data` to a bool while calling `get_dataset`.\n",
      "  dataset = get_dataset(task.dataset_id, *dataset_args, **get_dataset_kwargs)\n",
      "/Users/floris/Desktop/ETH/ETH_FS25/Semesterarbeit/CSHS/.venv/lib/python3.10/site-packages/openml/tasks/task.py:150: FutureWarning: Starting from Version 0.15 `download_data`, `download_qualities`, and `download_features_meta_data` will all be ``False`` instead of ``True`` by default to enable lazy loading. To disable this message until version 0.15 explicitly set `download_data`, `download_qualities`, and `download_features_meta_data` to a bool while calling `get_dataset`.\n",
      "  return datasets.get_dataset(self.dataset_id)\n"
     ]
    }
   ],
   "source": [
    "#tasks = [361055, 361066, 317599]\n",
    "task = openml.tasks.get_task(317599)  # download the OpenML task\n",
    "dataset = task.get_dataset()\n",
    "X, y, categorical_indicator, attribute_names = dataset.get_data(\n",
    "         dataset_format=\"dataframe\", target=dataset.default_target_attribute\n",
    "     )"
   ]
  },
  {
   "cell_type": "code",
   "execution_count": 5,
   "id": "43e3d332",
   "metadata": {},
   "outputs": [
    {
     "name": "stdout",
     "output_type": "stream",
     "text": [
      "(30000, 23)\n"
     ]
    }
   ],
   "source": [
    "# X = pd.read_csv('Financial_DATA/1_X.csv')\n",
    "# y =  pd.read_csv('Financial_DATA/1_y.csv')\n",
    "# categorical_indicator = np.load('Financial_DATA/1_categorial_indicator.npy')\n",
    "print(X.shape)"
   ]
  },
  {
   "cell_type": "code",
   "execution_count": 37,
   "id": "7a2dd4e5",
   "metadata": {},
   "outputs": [
    {
     "name": "stdout",
     "output_type": "stream",
     "text": [
      "[0.78912056 0.79765406 0.82635759 ... 0.83059203 0.83453783 0.83847772]\n"
     ]
    }
   ],
   "source": [
    "report, acc_tree,acc_lr = check_tabular_dataset_assumptions(X,y,categorical_indicator,'regression')"
   ]
  },
  {
   "cell_type": "code",
   "execution_count": 38,
   "id": "fc2c0a77",
   "metadata": {},
   "outputs": [
    {
     "name": "stdout",
     "output_type": "stream",
     "text": [
      "-0.003925117151469815 -6.946768675719639e-05\n"
     ]
    }
   ],
   "source": [
    "print(acc_tree,acc_lr)"
   ]
  },
  {
   "cell_type": "code",
   "execution_count": 39,
   "id": "7994dff2",
   "metadata": {},
   "outputs": [
    {
     "name": "stdout",
     "output_type": "stream",
     "text": [
      "{'heterogeneous_columns': True, 'low_dimensionality': True, 'enough_samples': True, 'enough_features': True, 'no_missing_data': True, 'valid_cardinalities': True, 'not_too_easy': False, 'accepted': False}\n"
     ]
    }
   ],
   "source": [
    "print(report)"
   ]
  },
  {
   "cell_type": "code",
   "execution_count": 40,
   "id": "535d2f84",
   "metadata": {},
   "outputs": [
    {
     "data": {
      "text/plain": [
       "-0.9823017545524257"
      ]
     },
     "execution_count": 40,
     "metadata": {},
     "output_type": "execute_result"
    }
   ],
   "source": [
    "abs(acc_tree-acc_lr)/(acc_tree)"
   ]
  },
  {
   "cell_type": "code",
   "execution_count": null,
   "id": "b85aded7",
   "metadata": {},
   "outputs": [],
   "source": []
  }
 ],
 "metadata": {
  "kernelspec": {
   "display_name": ".venv",
   "language": "python",
   "name": "python3"
  },
  "language_info": {
   "codemirror_mode": {
    "name": "ipython",
    "version": 3
   },
   "file_extension": ".py",
   "mimetype": "text/x-python",
   "name": "python",
   "nbconvert_exporter": "python",
   "pygments_lexer": "ipython3",
   "version": "3.10.17"
  }
 },
 "nbformat": 4,
 "nbformat_minor": 5
}
