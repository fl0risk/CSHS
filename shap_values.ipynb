{
 "cells": [
  {
   "cell_type": "markdown",
   "metadata": {},
   "source": [
    "## Exploration of SHAP values"
   ]
  },
  {
   "cell_type": "code",
   "execution_count": null,
   "metadata": {},
   "outputs": [],
   "source": [
    "import pandas as pd\n",
    "import numpy as np\n",
    "\n",
    "from utils_modelling import read_and_preprocess_dataset, split_dataset"
   ]
  },
  {
   "cell_type": "code",
   "execution_count": null,
   "metadata": {},
   "outputs": [
    {
     "ename": "FileNotFoundError",
     "evalue": "[Errno 2] No such file or directory: 'task_indices/335_task_indices.npy'",
     "output_type": "error",
     "traceback": [
      "\u001b[31m---------------------------------------------------------------------------\u001b[39m",
      "\u001b[31mFileNotFoundError\u001b[39m                         Traceback (most recent call last)",
      "\u001b[36mCell\u001b[39m\u001b[36m \u001b[39m\u001b[32mIn[2]\u001b[39m\u001b[32m, line 1\u001b[39m\n\u001b[32m----> \u001b[39m\u001b[32m1\u001b[39m df_regr = \u001b[43mread_and_preprocess_dataset\u001b[49m\u001b[43m(\u001b[49m\u001b[43mclassification\u001b[49m\u001b[43m=\u001b[49m\u001b[38;5;28;43;01mFalse\u001b[39;49;00m\u001b[43m)\u001b[49m\n\u001b[32m      2\u001b[39m df_class = read_and_preprocess_dataset(classification=\u001b[38;5;28;01mTrue\u001b[39;00m)\n\u001b[32m      4\u001b[39m X_regr, y_regr, group_data_regr = split_dataset(df_regr)\n",
      "\u001b[36mFile \u001b[39m\u001b[32m~/Desktop/ETH/ETH FS25/Semesterarbeit/CSHS/utils_modelling.py:30\u001b[39m, in \u001b[36mread_and_preprocess_dataset\u001b[39m\u001b[34m(classification)\u001b[39m\n\u001b[32m     27\u001b[39m     suites = [\u001b[32m335\u001b[39m, \u001b[32m336\u001b[39m]\n\u001b[32m     29\u001b[39m \u001b[38;5;28;01mfor\u001b[39;00m suite_id \u001b[38;5;129;01min\u001b[39;00m suites:\n\u001b[32m---> \u001b[39m\u001b[32m30\u001b[39m     tasks = \u001b[43mnp\u001b[49m\u001b[43m.\u001b[49m\u001b[43mload\u001b[49m\u001b[43m(\u001b[49m\u001b[33;43mf\u001b[39;49m\u001b[33;43m\"\u001b[39;49m\u001b[33;43mtask_indices/\u001b[39;49m\u001b[38;5;132;43;01m{\u001b[39;49;00m\u001b[43msuite_id\u001b[49m\u001b[38;5;132;43;01m}\u001b[39;49;00m\u001b[33;43m_task_indices.npy\u001b[39;49m\u001b[33;43m\"\u001b[39;49m\u001b[43m)\u001b[49m\n\u001b[32m     32\u001b[39m     \u001b[38;5;28;01mfor\u001b[39;00m task_id \u001b[38;5;129;01min\u001b[39;00m tasks:\n\u001b[32m     33\u001b[39m         data = pd.read_csv(\u001b[33mf\u001b[39m\u001b[33m\"\u001b[39m\u001b[33mresult_folder/seed_\u001b[39m\u001b[38;5;132;01m{\u001b[39;00mSEED\u001b[38;5;132;01m}\u001b[39;00m\u001b[33m/\u001b[39m\u001b[38;5;132;01m{\u001b[39;00msuite_id\u001b[38;5;132;01m}\u001b[39;00m\u001b[33m_\u001b[39m\u001b[38;5;132;01m{\u001b[39;00mtask_id\u001b[38;5;132;01m}\u001b[39;00m\u001b[33m.csv\u001b[39m\u001b[33m\"\u001b[39m)\n",
      "\u001b[36mFile \u001b[39m\u001b[32m~/Desktop/ETH/ETH FS25/Semesterarbeit/CSHS/Semesterarbeit/lib/python3.11/site-packages/numpy/lib/npyio.py:427\u001b[39m, in \u001b[36mload\u001b[39m\u001b[34m(file, mmap_mode, allow_pickle, fix_imports, encoding, max_header_size)\u001b[39m\n\u001b[32m    425\u001b[39m     own_fid = \u001b[38;5;28;01mFalse\u001b[39;00m\n\u001b[32m    426\u001b[39m \u001b[38;5;28;01melse\u001b[39;00m:\n\u001b[32m--> \u001b[39m\u001b[32m427\u001b[39m     fid = stack.enter_context(\u001b[38;5;28;43mopen\u001b[39;49m\u001b[43m(\u001b[49m\u001b[43mos_fspath\u001b[49m\u001b[43m(\u001b[49m\u001b[43mfile\u001b[49m\u001b[43m)\u001b[49m\u001b[43m,\u001b[49m\u001b[43m \u001b[49m\u001b[33;43m\"\u001b[39;49m\u001b[33;43mrb\u001b[39;49m\u001b[33;43m\"\u001b[39;49m\u001b[43m)\u001b[49m)\n\u001b[32m    428\u001b[39m     own_fid = \u001b[38;5;28;01mTrue\u001b[39;00m\n\u001b[32m    430\u001b[39m \u001b[38;5;66;03m# Code to distinguish from NumPy binary files and pickles.\u001b[39;00m\n",
      "\u001b[31mFileNotFoundError\u001b[39m: [Errno 2] No such file or directory: 'task_indices/335_task_indices.npy'"
     ]
    }
   ],
   "source": [
    "df_regr = read_and_preprocess_dataset(classification=False)\n",
    "df_class = read_and_preprocess_dataset(classification=True)\n",
    "\n",
    "X_regr, y_regr, group_data_regr = split_dataset(df_regr)\n",
    "X_class, y_class, group_data_class = split_dataset(df_class)"
   ]
  },
  {
   "cell_type": "code",
   "execution_count": null,
   "metadata": {},
   "outputs": [],
   "source": [
    "shap_regr = pd.read_csv('results_model/gp_boosting/regression/shap_values/shap_values.csv')\n",
    "shap_class = pd.read_csv('results_model/gp_boosting/classification/shap_values/shap_values.csv')"
   ]
  },
  {
   "cell_type": "code",
   "execution_count": null,
   "metadata": {},
   "outputs": [
    {
     "data": {
      "text/plain": [
       "Index(['learning_rate', 'min_data_in_leaf', 'max_depth', 'lambda_l2',\n",
       "       'num_leaves', 'max_bin', 'bagging_fraction', 'feature_fraction'],\n",
       "      dtype='object')"
      ]
     },
     "execution_count": 14,
     "metadata": {},
     "output_type": "execute_result"
    }
   ],
   "source": [
    "X_regr.columns"
   ]
  },
  {
   "cell_type": "code",
   "execution_count": null,
   "metadata": {},
   "outputs": [
    {
     "data": {
      "text/plain": [
       "learning_rate      -0.013586\n",
       "min_data_in_leaf    0.056955\n",
       "max_depth          -0.006704\n",
       "lambda_l2          -0.003365\n",
       "num_leaves         -0.030945\n",
       "max_bin            -0.016547\n",
       "bagging_fraction    0.003472\n",
       "feature_fraction    0.010720\n",
       "dtype: float64"
      ]
     },
     "execution_count": 19,
     "metadata": {},
     "output_type": "execute_result"
    }
   ],
   "source": [
    "shap_regr.mean(axis=0)"
   ]
  },
  {
   "cell_type": "code",
   "execution_count": null,
   "metadata": {},
   "outputs": [
    {
     "data": {
      "text/plain": [
       "learning_rate      -0.034114\n",
       "min_data_in_leaf   -0.023667\n",
       "max_depth           0.029693\n",
       "lambda_l2          -0.009739\n",
       "num_leaves          0.020285\n",
       "max_bin            -0.009903\n",
       "bagging_fraction   -0.011570\n",
       "feature_fraction    0.039015\n",
       "dtype: float64"
      ]
     },
     "execution_count": 20,
     "metadata": {},
     "output_type": "execute_result"
    }
   ],
   "source": [
    "shap_class.mean(axis=0)"
   ]
  },
  {
   "cell_type": "code",
   "execution_count": null,
   "metadata": {},
   "outputs": [
    {
     "name": "stdout",
     "output_type": "stream",
     "text": [
      "Regression:\n",
      "\n",
      "learning_rate for maximum SHAP value:  0.2551823159557322\n",
      "Max SHAP value:  2.4420473320846168\n",
      "learning_rate for minimum SHAP value:  0.870254118745322\n",
      "Min SHAP value:  -5.380000187711938 \n",
      "\n",
      "min_data_in_leaf for maximum SHAP value:  1\n",
      "Max SHAP value:  5.55318709904525\n",
      "min_data_in_leaf for minimum SHAP value:  648\n",
      "Min SHAP value:  -5.18751054406352 \n",
      "\n",
      "max_depth for maximum SHAP value:  -1\n",
      "Max SHAP value:  1.2245962057860778\n",
      "max_depth for minimum SHAP value:  10\n",
      "Min SHAP value:  -3.429023595070789 \n",
      "\n",
      "lambda_l2 for maximum SHAP value:  38.9543739714224\n",
      "Max SHAP value:  1.5108298862797576\n",
      "lambda_l2 for minimum SHAP value:  32.17523265648738\n",
      "Min SHAP value:  -2.459033323800345 \n",
      "\n",
      "num_leaves for maximum SHAP value:  7\n",
      "Max SHAP value:  2.5150262629338966\n",
      "num_leaves for minimum SHAP value:  1024\n",
      "Min SHAP value:  -1.8457962540859472 \n",
      "\n",
      "max_bin for maximum SHAP value:  256\n",
      "Max SHAP value:  4.684500257964882\n",
      "max_bin for minimum SHAP value:  3598\n",
      "Min SHAP value:  -3.4696713510140835 \n",
      "\n",
      "bagging_fraction for maximum SHAP value:  0.6329769690246682\n",
      "Max SHAP value:  3.6217950438195\n",
      "bagging_fraction for minimum SHAP value:  0.9128698215886792\n",
      "Min SHAP value:  -5.841455797484363 \n",
      "\n",
      "feature_fraction for maximum SHAP value:  0.5\n",
      "Max SHAP value:  1.7543441989148432\n",
      "feature_fraction for minimum SHAP value:  0.5432675920287484\n",
      "Min SHAP value:  -2.6631787643860543 \n",
      "\n",
      "Classification:\n",
      "\n",
      "learning_rate for maximum SHAP value:  0.1003122874355795\n",
      "Max SHAP value:  1.0954487780554705\n",
      "learning_rate for minimum SHAP value:  0.0851683466507564\n",
      "Min SHAP value:  -0.754603832040301 \n",
      "\n",
      "min_data_in_leaf for maximum SHAP value:  1\n",
      "Max SHAP value:  0.698100815509408\n",
      "min_data_in_leaf for minimum SHAP value:  15\n",
      "Min SHAP value:  -0.6458109070331554 \n",
      "\n",
      "max_depth for maximum SHAP value:  -1\n",
      "Max SHAP value:  0.6954798820900457\n",
      "max_depth for minimum SHAP value:  5\n",
      "Min SHAP value:  -0.7804389332409498 \n",
      "\n",
      "lambda_l2 for maximum SHAP value:  100.0\n",
      "Max SHAP value:  0.497627565766446\n",
      "lambda_l2 for minimum SHAP value:  0.0\n",
      "Min SHAP value:  -0.628986370848685 \n",
      "\n",
      "num_leaves for maximum SHAP value:  723\n",
      "Max SHAP value:  0.7683083438238689\n",
      "num_leaves for minimum SHAP value:  32\n",
      "Min SHAP value:  -0.978469922029052 \n",
      "\n",
      "max_bin for maximum SHAP value:  3588\n",
      "Max SHAP value:  0.8541662573093168\n",
      "max_bin for minimum SHAP value:  255\n",
      "Min SHAP value:  -0.754704524525004 \n",
      "\n",
      "bagging_fraction for maximum SHAP value:  0.5115740520801273\n",
      "Max SHAP value:  0.6550931548231356\n",
      "bagging_fraction for minimum SHAP value:  0.75\n",
      "Min SHAP value:  -0.906124085888851 \n",
      "\n",
      "feature_fraction for maximum SHAP value:  0.5258807737032394\n",
      "Max SHAP value:  0.7042690919310841\n",
      "feature_fraction for minimum SHAP value:  0.5\n",
      "Min SHAP value:  -0.6845833521688406 \n",
      "\n"
     ]
    }
   ],
   "source": [
    "for setting in ['Regression', 'Classification']:\n",
    "    if setting == 'Regression':\n",
    "        shap = shap_regr\n",
    "        X = X_regr\n",
    "    else:\n",
    "        shap = shap_class\n",
    "        X = X_class\n",
    "\n",
    "    print(setting + ':\\n')\n",
    "    for col in shap.columns:\n",
    "        print(f'{col} for maximum SHAP value: ', X[col][shap[col].idxmax()])\n",
    "        print('Max SHAP value: ', shap[col][shap[col].idxmax()])\n",
    "        print(f'{col} for minimum SHAP value: ', X[col][shap[col].idxmin()])\n",
    "        print('Min SHAP value: ', shap[col][shap[col].idxmin()], '\\n')"
   ]
  },
  {
   "cell_type": "code",
   "execution_count": null,
   "metadata": {},
   "outputs": [],
   "source": [
    "def summarize(col, X, shap_values):\n",
    "    feature = X[col]\n",
    "    shap = shap_values[col]\n",
    "\n",
    "    def_intervals = {\n",
    "        'learning_rate': np.linspace(0.001, 1, 100),\n",
    "        'min_data_in_leaf': np.linspace(1, 1000, 100),\n",
    "        'max_depth': np.linspace(1, 10, 100),\n",
    "        'lambda_l2': np.linspace(0, 100, 100),\n",
    "        'num_leaves': np.linspace(2, 1024, 100),\n",
    "        'max_bin': np.linspace(1, 10000, 100),\n",
    "        'bagging_fraction': np.linspace(0.5, 1, 100),\n",
    "        'feature_fraction': np.linspace(0.5, 1, 100)\n",
    "    }\n",
    "\n",
    "    low_thresh = def_intervals[col][35] if col in ['learning_rate', 'lambda_l2', 'bagging_fraction', 'feature_fraction'] else int(def_intervals[col][35])\n",
    "    high_thresh = def_intervals[col][65] if col in ['learning_rate', 'lambda_l2', 'bagging_fraction', 'feature_fraction'] else int(def_intervals[col][65])\n",
    "\n",
    "    conditions = [\n",
    "        (feature <= low_thresh),\n",
    "        (feature > low_thresh) & (feature <= high_thresh),\n",
    "        (feature > high_thresh)\n",
    "    ]\n",
    "\n",
    "    categories = ['low', 'moderate', 'high']\n",
    "    labels = np.select(conditions, categories, default='N/A')\n",
    "    intervals = {\n",
    "        'low': f\"(-inf, {low_thresh:.2f}]\",\n",
    "        'moderate': f\"({low_thresh:.2f}, {high_thresh:.2f}]\",\n",
    "        'high': f\"({high_thresh:.2f}, +inf)\"\n",
    "    }\n",
    "\n",
    "    # Compute the summary dataframe\n",
    "    df = pd.DataFrame({\n",
    "        'Feature Value': ['min', 'low', 'moderate', 'high', 'max'],\n",
    "        'Feature': [\n",
    "            feature[shap.idxmin()],\n",
    "            intervals['low'],\n",
    "            intervals['moderate'],\n",
    "            intervals['high'],\n",
    "            feature[shap.idxmax()]\n",
    "        ],\n",
    "        'SHAP Value': [\n",
    "            shap.min(),\n",
    "            shap[labels == 'low'].mean(),\n",
    "            shap[labels == 'moderate'].mean(),\n",
    "            shap[labels == 'high'].mean(),\n",
    "            shap.max()\n",
    "        ]\n",
    "    })\n",
    "\n",
    "    return df\n",
    "\n",
    "for setting in ['regression', 'classification']:\n",
    "    if setting == 'regression':\n",
    "        shap = shap_regr\n",
    "        X = X_regr\n",
    "    else:\n",
    "        shap = shap_class\n",
    "        X = X_class\n",
    "\n",
    "    for col in shap.columns:\n",
    "        df = summarize(col, X, shap)\n",
    "        df.to_csv(f'results_model/gp_boosting/{setting}/shap_values/shap_summary_{setting}_{col}.csv', index=False)\n"
   ]
  },
  {
   "cell_type": "markdown",
   "metadata": {},
   "source": [
    "### Regression"
   ]
  },
  {
   "cell_type": "code",
   "execution_count": null,
   "metadata": {},
   "outputs": [
    {
     "data": {
      "text/plain": [
       "0.020280348149971268"
      ]
     },
     "execution_count": 66,
     "metadata": {},
     "output_type": "execute_result"
    }
   ],
   "source": [
    "shap_regr[(X_regr['learning_rate'] > 0.05) & (X_regr['learning_rate'] < 0.2)]['learning_rate'].mean()"
   ]
  },
  {
   "cell_type": "code",
   "execution_count": null,
   "metadata": {},
   "outputs": [
    {
     "data": {
      "text/plain": [
       "0.10184979960935614"
      ]
     },
     "execution_count": 77,
     "metadata": {},
     "output_type": "execute_result"
    }
   ],
   "source": [
    "shap_regr[X_regr['max_bin'] < 500]['max_bin'].mean()"
   ]
  },
  {
   "cell_type": "code",
   "execution_count": null,
   "metadata": {},
   "outputs": [
    {
     "data": {
      "text/plain": [
       "0.09651930305577557"
      ]
     },
     "execution_count": 83,
     "metadata": {},
     "output_type": "execute_result"
    }
   ],
   "source": [
    "shap_regr[X_regr['min_data_in_leaf'] < 500]['min_data_in_leaf'].mean()"
   ]
  },
  {
   "cell_type": "code",
   "execution_count": null,
   "metadata": {},
   "outputs": [
    {
     "data": {
      "text/plain": [
       "-0.09791233412704684"
      ]
     },
     "execution_count": 95,
     "metadata": {},
     "output_type": "execute_result"
    }
   ],
   "source": [
    "shap_regr[X_regr['max_depth'] > 5]['max_depth'].mean()"
   ]
  },
  {
   "cell_type": "code",
   "execution_count": null,
   "metadata": {},
   "outputs": [
    {
     "data": {
      "text/plain": [
       "0.06855037049888754"
      ]
     },
     "execution_count": 118,
     "metadata": {},
     "output_type": "execute_result"
    }
   ],
   "source": [
    "shap_regr[X_regr['max_depth'] == -1]['max_depth'].mean()"
   ]
  },
  {
   "cell_type": "markdown",
   "metadata": {},
   "source": [
    "### Classification"
   ]
  },
  {
   "cell_type": "code",
   "execution_count": null,
   "metadata": {},
   "outputs": [
    {
     "data": {
      "text/plain": [
       "-0.1664793685626219"
      ]
     },
     "execution_count": 101,
     "metadata": {},
     "output_type": "execute_result"
    }
   ],
   "source": [
    "shap_class[X_class['max_bin'] < 500]['max_bin'].mean()"
   ]
  },
  {
   "cell_type": "code",
   "execution_count": null,
   "metadata": {},
   "outputs": [
    {
     "data": {
      "text/plain": [
       "0.14696124320467835"
      ]
     },
     "execution_count": 104,
     "metadata": {},
     "output_type": "execute_result"
    }
   ],
   "source": [
    "shap_class[X_class['num_leaves'] > 900]['num_leaves'].mean()"
   ]
  },
  {
   "cell_type": "code",
   "execution_count": null,
   "metadata": {},
   "outputs": [
    {
     "data": {
      "text/plain": [
       "0.13916882664914162"
      ]
     },
     "execution_count": 111,
     "metadata": {},
     "output_type": "execute_result"
    }
   ],
   "source": [
    "# Compute the mean SHAP value when 'max_depth' is -1\n",
    "shap_class[X_class['bagging_fraction'] > 0.99]['bagging_fraction'].mean()"
   ]
  },
  {
   "cell_type": "code",
   "execution_count": null,
   "metadata": {},
   "outputs": [
    {
     "data": {
      "text/plain": [
       "0.1896446397783991"
      ]
     },
     "execution_count": 117,
     "metadata": {},
     "output_type": "execute_result"
    }
   ],
   "source": [
    "shap_class[X_class['max_depth'] == -1]['max_depth'].mean()"
   ]
  }
 ],
 "metadata": {
  "kernelspec": {
   "display_name": "Semesterarbeit",
   "language": "python",
   "name": "python3"
  },
  "language_info": {
   "codemirror_mode": {
    "name": "ipython",
    "version": 3
   },
   "file_extension": ".py",
   "mimetype": "text/x-python",
   "name": "python",
   "nbconvert_exporter": "python",
   "pygments_lexer": "ipython3",
   "version": "3.11.5"
  }
 },
 "nbformat": 4,
 "nbformat_minor": 2
}
